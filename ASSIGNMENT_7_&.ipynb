{
  "nbformat": 4,
  "nbformat_minor": 0,
  "metadata": {
    "colab": {
      "provenance": [],
      "authorship_tag": "ABX9TyNinDHLUl97UT+ZnpPJTeNS",
      "include_colab_link": true
    },
    "kernelspec": {
      "name": "python3",
      "display_name": "Python 3"
    },
    "language_info": {
      "name": "python"
    }
  },
  "cells": [
    {
      "cell_type": "markdown",
      "metadata": {
        "id": "view-in-github",
        "colab_type": "text"
      },
      "source": [
        "<a href=\"https://colab.research.google.com/github/saksham1965/data-analyst/blob/main/ASSIGNMENT_7_%26.ipynb\" target=\"_parent\"><img src=\"https://colab.research.google.com/assets/colab-badge.svg\" alt=\"Open In Colab\"/></a>"
      ]
    },
    {
      "cell_type": "code",
      "execution_count": 2,
      "metadata": {
        "id": "7Izb8pKlY4gI"
      },
      "outputs": [],
      "source": [
        "import pandas as pd\n",
        "import numpy as np"
      ]
    },
    {
      "cell_type": "code",
      "source": [
        "import pandas as pd\n",
        "import seaborn as sns\n",
        "\n",
        "# Load the Titanic dataset using seaborn\n",
        "titanic = sns.load_dataset('titanic')\n",
        "\n",
        "# Display the first few rows of the dataset\n",
        "print(\"First 5 rows of the Titanic dataset:\")\n",
        "print(titanic.head())\n",
        "\n",
        "# Display summary statistics\n",
        "print(\"\\nSummary statistics:\")\n",
        "print(titanic.describe(include='all'))\n",
        "\n",
        "# Additional basic statistics\n",
        "print(\"\\nMedian values:\")\n",
        "print(titanic.median(numeric_only=True))\n",
        "\n",
        "print(\"\\nStandard deviation:\")\n",
        "print(titanic.std(numeric_only=True))"
      ],
      "metadata": {
        "colab": {
          "base_uri": "https://localhost:8080/"
        },
        "id": "g5Bwx53FzQ_m",
        "outputId": "0d3361e1-a53c-4520-849f-744d53967fd1"
      },
      "execution_count": 1,
      "outputs": [
        {
          "output_type": "stream",
          "name": "stdout",
          "text": [
            "First 5 rows of the Titanic dataset:\n",
            "   survived  pclass     sex   age  sibsp  parch     fare embarked  class  \\\n",
            "0         0       3    male  22.0      1      0   7.2500        S  Third   \n",
            "1         1       1  female  38.0      1      0  71.2833        C  First   \n",
            "2         1       3  female  26.0      0      0   7.9250        S  Third   \n",
            "3         1       1  female  35.0      1      0  53.1000        S  First   \n",
            "4         0       3    male  35.0      0      0   8.0500        S  Third   \n",
            "\n",
            "     who  adult_male deck  embark_town alive  alone  \n",
            "0    man        True  NaN  Southampton    no  False  \n",
            "1  woman       False    C    Cherbourg   yes  False  \n",
            "2  woman       False  NaN  Southampton   yes   True  \n",
            "3  woman       False    C  Southampton   yes  False  \n",
            "4    man        True  NaN  Southampton    no   True  \n",
            "\n",
            "Summary statistics:\n",
            "          survived      pclass   sex         age       sibsp       parch  \\\n",
            "count   891.000000  891.000000   891  714.000000  891.000000  891.000000   \n",
            "unique         NaN         NaN     2         NaN         NaN         NaN   \n",
            "top            NaN         NaN  male         NaN         NaN         NaN   \n",
            "freq           NaN         NaN   577         NaN         NaN         NaN   \n",
            "mean      0.383838    2.308642   NaN   29.699118    0.523008    0.381594   \n",
            "std       0.486592    0.836071   NaN   14.526497    1.102743    0.806057   \n",
            "min       0.000000    1.000000   NaN    0.420000    0.000000    0.000000   \n",
            "25%       0.000000    2.000000   NaN   20.125000    0.000000    0.000000   \n",
            "50%       0.000000    3.000000   NaN   28.000000    0.000000    0.000000   \n",
            "75%       1.000000    3.000000   NaN   38.000000    1.000000    0.000000   \n",
            "max       1.000000    3.000000   NaN   80.000000    8.000000    6.000000   \n",
            "\n",
            "              fare embarked  class  who adult_male deck  embark_town alive  \\\n",
            "count   891.000000      889    891  891        891  203          889   891   \n",
            "unique         NaN        3      3    3          2    7            3     2   \n",
            "top            NaN        S  Third  man       True    C  Southampton    no   \n",
            "freq           NaN      644    491  537        537   59          644   549   \n",
            "mean     32.204208      NaN    NaN  NaN        NaN  NaN          NaN   NaN   \n",
            "std      49.693429      NaN    NaN  NaN        NaN  NaN          NaN   NaN   \n",
            "min       0.000000      NaN    NaN  NaN        NaN  NaN          NaN   NaN   \n",
            "25%       7.910400      NaN    NaN  NaN        NaN  NaN          NaN   NaN   \n",
            "50%      14.454200      NaN    NaN  NaN        NaN  NaN          NaN   NaN   \n",
            "75%      31.000000      NaN    NaN  NaN        NaN  NaN          NaN   NaN   \n",
            "max     512.329200      NaN    NaN  NaN        NaN  NaN          NaN   NaN   \n",
            "\n",
            "       alone  \n",
            "count    891  \n",
            "unique     2  \n",
            "top     True  \n",
            "freq     537  \n",
            "mean     NaN  \n",
            "std      NaN  \n",
            "min      NaN  \n",
            "25%      NaN  \n",
            "50%      NaN  \n",
            "75%      NaN  \n",
            "max      NaN  \n",
            "\n",
            "Median values:\n",
            "survived       0.0000\n",
            "pclass         3.0000\n",
            "age           28.0000\n",
            "sibsp          0.0000\n",
            "parch          0.0000\n",
            "fare          14.4542\n",
            "adult_male     1.0000\n",
            "alone          1.0000\n",
            "dtype: float64\n",
            "\n",
            "Standard deviation:\n",
            "survived       0.486592\n",
            "pclass         0.836071\n",
            "age           14.526497\n",
            "sibsp          1.102743\n",
            "parch          0.806057\n",
            "fare          49.693429\n",
            "adult_male     0.489615\n",
            "alone          0.489615\n",
            "dtype: float64\n"
          ]
        }
      ]
    },
    {
      "cell_type": "code",
      "source": [
        "age_data = titanic['age'].dropna()\n",
        "fare_data = titanic['fare'].dropna()\n",
        "\n",
        "# Calculate point estimates\n",
        "age_mean = age_data.mean()\n",
        "age_variance = age_data.var()\n",
        "\n",
        "fare_mean = fare_data.mean()\n",
        "fare_variance = fare_data.var()\n",
        "\n",
        "print(f\"Age - Mean: {age_mean:.2f}, Variance: {age_variance:.2f}\")\n",
        "print(f\"Fare - Mean: {fare_mean:.2f}, Variance: {fare_variance:.2f}\")"
      ],
      "metadata": {
        "colab": {
          "base_uri": "https://localhost:8080/"
        },
        "id": "jToMDOx38fW_",
        "outputId": "99702f70-855b-4078-9ed1-9e95fe768922"
      },
      "execution_count": 3,
      "outputs": [
        {
          "output_type": "stream",
          "name": "stdout",
          "text": [
            "Age - Mean: 29.70, Variance: 211.02\n",
            "Fare - Mean: 32.20, Variance: 2469.44\n"
          ]
        }
      ]
    },
    {
      "cell_type": "code",
      "source": [
        "age_data = titanic['age'].dropna()\n",
        "\n",
        "# Sample statistics\n",
        "n = len(age_data)\n",
        "mean_age = age_data.mean()\n",
        "std_age = age_data.std()\n",
        "\n",
        "# Compute standard error\n",
        "se_age = std_age / np.sqrt(n)\n",
        "\n",
        "# z-score for 95% confidence\n",
        "z = 1.96\n",
        "\n",
        "# Confidence Interval\n",
        "ci_lower = mean_age - z * se_age\n",
        "ci_upper = mean_age + z * se_age\n",
        "\n",
        "print(f\"95% Confidence Interval for mean age: ({ci_lower:.2f}, {ci_upper:.2f})\")"
      ],
      "metadata": {
        "colab": {
          "base_uri": "https://localhost:8080/"
        },
        "id": "8tpZdFMH8pgM",
        "outputId": "25595ac2-a510-453a-eeee-36ea17dfed5c"
      },
      "execution_count": 4,
      "outputs": [
        {
          "output_type": "stream",
          "name": "stdout",
          "text": [
            "95% Confidence Interval for mean age: (28.63, 30.76)\n"
          ]
        }
      ]
    },
    {
      "cell_type": "code",
      "source": [
        "from scipy import stats\n",
        "age_data = titanic['age'].dropna()\n",
        "n = len(age_data)\n",
        "mean_age = age_data.mean()\n",
        "sem_age = stats.sem(age_data)\n",
        "\n",
        "\n",
        "confidence = 0.95\n",
        "ci = stats.t.interval(confidence, df=n-1, loc=mean_age, scale=sem_age)\n",
        "\n",
        "print(f\"95% Confidence Interval for mean age (using scipy): ({ci[0]:.2f}, {ci[1]:.2f})\")"
      ],
      "metadata": {
        "colab": {
          "base_uri": "https://localhost:8080/"
        },
        "id": "IBymSKpc9D3C",
        "outputId": "5c341e02-ddff-4940-d246-3ce0627e966a"
      },
      "execution_count": 5,
      "outputs": [
        {
          "output_type": "stream",
          "name": "stdout",
          "text": [
            "95% Confidence Interval for mean age (using scipy): (28.63, 30.77)\n"
          ]
        }
      ]
    },
    {
      "cell_type": "code",
      "source": [
        "n_bootstrap = 1000\n",
        "sample_size = len(age_data)\n",
        "bootstrap_means = []\n",
        "\n",
        "# Generate bootstrap samples and compute means\n",
        "for _ in range(n_bootstrap):\n",
        "    sample = np.random.choice(age_data, size=sample_size, replace=True)\n",
        "    bootstrap_means.append(sample.mean())\n",
        "\n",
        "# Compute 95% confidence interval from bootstrap sample distribution\n",
        "lower = np.percentile(bootstrap_means, 2.5)\n",
        "upper = np.percentile(bootstrap_means, 97.5)\n",
        "\n",
        "print(f\"95% Bootstrap CI for mean age (NumPy): ({lower:.2f}, {upper:.2f})\")"
      ],
      "metadata": {
        "colab": {
          "base_uri": "https://localhost:8080/"
        },
        "id": "r4RdeSOv9aiN",
        "outputId": "8de85849-124b-4485-d6ab-3d57bd69acc6"
      },
      "execution_count": 6,
      "outputs": [
        {
          "output_type": "stream",
          "name": "stdout",
          "text": [
            "95% Bootstrap CI for mean age (NumPy): (28.63, 30.86)\n"
          ]
        }
      ]
    },
    {
      "cell_type": "code",
      "source": [],
      "metadata": {
        "id": "Q4baW5Ke9pbZ"
      },
      "execution_count": null,
      "outputs": []
    }
  ]
}